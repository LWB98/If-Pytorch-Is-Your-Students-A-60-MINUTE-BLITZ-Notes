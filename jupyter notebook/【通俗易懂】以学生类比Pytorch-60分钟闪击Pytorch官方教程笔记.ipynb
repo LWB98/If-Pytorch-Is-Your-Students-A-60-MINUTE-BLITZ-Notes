{
 "cells": [
  {
   "cell_type": "markdown",
   "id": "ebc7b54d-7e0f-44e9-8b7f-4c6401f4695e",
   "metadata": {
    "solution": "hidden",
    "solution_first": true
   },
   "source": [
    "源文档：[DEEP LEARNING WITH PYTORCH: A 60 MINUTE BLITZ](https://pytorch.org/tutorials/beginner/blitz/autograd_tutorial.html#sphx-glr-beginner-blitz-autograd-tutorial-py)\n",
    "\n",
    "环境：Win 10 + JupyterLab 3.3.2 +Conda Environment\n"
   ]
  },
  {
   "cell_type": "markdown",
   "id": "8bd74f50",
   "metadata": {
    "jp-MarkdownHeadingCollapsed": true,
    "lang": "fr",
    "tags": []
   },
   "source": [
    "## 1.Tensor基础使用"
   ]
  },
  {
   "cell_type": "code",
   "execution_count": 2,
   "id": "c2639f2b-7fec-4683-a4f3-6679d63f0be9",
   "metadata": {
    "ExecuteTime": {
     "end_time": "2022-04-11T04:40:48.138611Z",
     "start_time": "2022-04-11T04:40:47.203563Z"
    },
    "solution": "hidden"
   },
   "outputs": [],
   "source": [
    "import torch as t\n",
    "import numpy as np"
   ]
  },
  {
   "cell_type": "markdown",
   "id": "5f20776f-db2f-4b84-a5d9-c42e473e25ea",
   "metadata": {},
   "source": [
    "### 1.1 快速生成Tensor"
   ]
  },
  {
   "cell_type": "code",
   "execution_count": 3,
   "id": "b326769c-5a0d-4822-8cb5-d3aa32e0ff42",
   "metadata": {
    "ExecuteTime": {
     "end_time": "2022-04-11T04:40:48.695893Z",
     "start_time": "2022-04-11T04:40:48.689907Z"
    }
   },
   "outputs": [],
   "source": [
    "data = t.zeros(3,3)\n",
    "data = t.ones(3,3)\n",
    "data = t.rand(3,3)\n",
    "\n",
    "#复制另一tensor的大小格式（类似于excel格式刷）\n",
    "tensor = t.rand(12,34)\n",
    "data = t.zeros_like(tensor)"
   ]
  },
  {
   "cell_type": "markdown",
   "id": "ff506c69-ba55-4c9c-ba81-43338d65a9b5",
   "metadata": {
    "tags": []
   },
   "source": [
    "### 1.2 查看属性"
   ]
  },
  {
   "cell_type": "code",
   "execution_count": 3,
   "id": "abd16aa6-1cac-411c-842f-db2215ca73d5",
   "metadata": {},
   "outputs": [
    {
     "name": "stdout",
     "output_type": "stream",
     "text": [
      "torch.Size([12, 34])\n",
      "torch.float32\n",
      "cpu\n"
     ]
    }
   ],
   "source": [
    "#查看tensor的形状\n",
    "print(data.shape)\n",
    "#查看tensor的类型\n",
    "print(data.dtype)\n",
    "#查看tensor的存储方式(cpu还是gpu)\n",
    "print(data.device)"
   ]
  },
  {
   "cell_type": "markdown",
   "id": "68b5904f-9737-4e7d-b59a-eb73d27f1626",
   "metadata": {},
   "source": [
    "### 1.3 格式转换"
   ]
  },
  {
   "cell_type": "code",
   "execution_count": 4,
   "id": "6857c78e-a008-44fa-ad55-ec7e2874ed73",
   "metadata": {},
   "outputs": [
    {
     "data": {
      "text/plain": [
       "numpy.ndarray"
      ]
     },
     "execution_count": 4,
     "metadata": {},
     "output_type": "execute_result"
    }
   ],
   "source": [
    "#tensor转numpy.ndarray\n",
    "data = t.Tensor.numpy(tensor)\n",
    "type(data)\n",
    "\n"
   ]
  },
  {
   "cell_type": "code",
   "execution_count": 5,
   "id": "1856c384-f559-4131-9977-b0503d02f3d8",
   "metadata": {},
   "outputs": [
    {
     "data": {
      "text/plain": [
       "torch.Tensor"
      ]
     },
     "execution_count": 5,
     "metadata": {},
     "output_type": "execute_result"
    }
   ],
   "source": [
    "#python列表转tensor\n",
    "data = [1,2,3,4]\n",
    "data = t.tensor(data)\n",
    "\n",
    "#numpy.ndarray转tensor,这个最常用！！！##############\n",
    "numpy = np.array([[1,  2],  [3,  4]]) \n",
    "data = t.from_numpy(numpy)\n",
    "type(data)"
   ]
  },
  {
   "cell_type": "code",
   "execution_count": 6,
   "id": "cced33e4-1050-48b8-bb89-1a6d4136e6e7",
   "metadata": {},
   "outputs": [
    {
     "data": {
      "text/plain": [
       "device(type='cuda', index=0)"
      ]
     },
     "execution_count": 6,
     "metadata": {},
     "output_type": "execute_result"
    }
   ],
   "source": [
    "#cpu存储类型转换为gpu存储类型(可用print(data.device)验证一下)\n",
    "if t.cuda.is_available():\n",
    "  data = data.cuda()\n",
    "data.device"
   ]
  },
  {
   "cell_type": "markdown",
   "id": "7a35e533-2fdf-465c-9767-50e9ceed47e7",
   "metadata": {
    "tags": []
   },
   "source": [
    "### 1.4 Tensor基本操作"
   ]
  },
  {
   "cell_type": "code",
   "execution_count": 7,
   "id": "728009a2-53d4-4908-9c89-cf7cfc79fc4f",
   "metadata": {},
   "outputs": [
    {
     "name": "stderr",
     "output_type": "stream",
     "text": [
      "C:\\Users\\李文彬\\AppData\\Local\\Temp\\ipykernel_74464\\1390403052.py:6: UserWarning: To copy construct from a tensor, it is recommended to use sourceTensor.clone().detach() or sourceTensor.clone().detach().requires_grad_(True), rather than torch.tensor(sourceTensor).\n",
      "  data1 = t.tensor(data)\n",
      "C:\\Users\\李文彬\\AppData\\Local\\Temp\\ipykernel_74464\\1390403052.py:14: UserWarning: To copy construct from a tensor, it is recommended to use sourceTensor.clone().detach() or sourceTensor.clone().detach().requires_grad_(True), rather than torch.tensor(sourceTensor).\n",
      "  data = t.tensor(data)\n"
     ]
    },
    {
     "data": {
      "text/plain": [
       "tensor([2, 4, 6])"
      ]
     },
     "execution_count": 7,
     "metadata": {},
     "output_type": "execute_result"
    }
   ],
   "source": [
    "data = [[1,2,3],\n",
    "        [4,5,6],\n",
    "        [7,8,9]]\n",
    "data1 = t.ones(3,3)\n",
    "data = t.tensor(data)\n",
    "data1 = t.tensor(data)\n",
    "\n",
    "#基本运算(三种方法）\n",
    "result = data+data1\n",
    "result = t.add(data,data1)\n",
    "data.add_(data1)\n",
    "\n",
    "#矩阵选取(第一个位置为0)\n",
    "data = t.tensor(data)\n",
    "data[0,:]\n",
    "#out:tensor([1, 2, 3])"
   ]
  },
  {
   "cell_type": "markdown",
   "id": "4bd69246-0184-481d-bdaf-cc1b7ae12072",
   "metadata": {
    "heading_collapsed": true,
    "tags": []
   },
   "source": [
    "## 2.Autograd基础使用"
   ]
  },
  {
   "cell_type": "code",
   "execution_count": 8,
   "id": "da75bd06-9f48-4a39-b651-d96840e4aca0",
   "metadata": {
    "hidden": true
   },
   "outputs": [],
   "source": [
    "# import torch, torchvision\n",
    "# model = torchvision.models.resnet18(pretrained=True)\n",
    "# data = torch.rand(1, 3, 64, 64)\n",
    "# labels = torch.rand(1, 1000)"
   ]
  },
  {
   "cell_type": "markdown",
   "id": "998d2ab7-6884-4555-a9fb-eced0f125568",
   "metadata": {
    "hidden": true,
    "tags": []
   },
   "source": [
    "**bug:模型下载失败**\n",
    "\n",
    "因为网络问题所以运行以下代码，使用离线下载好的模型。\n",
    "具体方法参考https://blog.csdn.net/haohulala/article/details/107598859"
   ]
  },
  {
   "cell_type": "code",
   "execution_count": 9,
   "id": "02975021-1706-47e5-b1b1-539fcc4dc650",
   "metadata": {
    "hidden": true
   },
   "outputs": [
    {
     "data": {
      "text/plain": [
       "<All keys matched successfully>"
      ]
     },
     "execution_count": 9,
     "metadata": {},
     "output_type": "execute_result"
    }
   ],
   "source": [
    "import torch, torchvision\n",
    "\n",
    "model = torchvision.models.resnet18(pretrained=False)\n",
    "load = torch.load(\"./model/resnet18-5c106cde.pth\")\n",
    "model.load_state_dict(load)"
   ]
  },
  {
   "cell_type": "code",
   "execution_count": 10,
   "id": "92e8c34e-747d-43b5-9989-a3f36889dc80",
   "metadata": {
    "hidden": true
   },
   "outputs": [],
   "source": [
    "#创建初始数据\n",
    "data = torch.rand(1, 3, 64, 64)\n",
    "labels = torch.rand(1, 1000)"
   ]
  },
  {
   "cell_type": "code",
   "execution_count": 11,
   "id": "b5c8cc22-e769-4fbf-a2a9-b815a9995466",
   "metadata": {
    "hidden": true
   },
   "outputs": [],
   "source": [
    "prediction = model(data) # forward pass"
   ]
  },
  {
   "cell_type": "markdown",
   "id": "6e42b66c-8c1e-4958-8171-b384b3af5167",
   "metadata": {
    "hidden": true
   },
   "source": [
    "这里的`prediction`是一个很大的数据，此处没有理解用意"
   ]
  },
  {
   "cell_type": "markdown",
   "id": "78373e15-121d-477e-b828-788a014173fa",
   "metadata": {
    "hidden": true
   },
   "source": [
    "Autograd计算每个模型的参数的梯度并将其存储在`.grad`属性中"
   ]
  },
  {
   "cell_type": "code",
   "execution_count": 12,
   "id": "eafa6fcd-4bc6-4e5b-b710-10e45c5b7e49",
   "metadata": {
    "hidden": true
   },
   "outputs": [],
   "source": [
    "loss = (prediction - labels).sum()\n",
    "loss.backward() # backward pass"
   ]
  },
  {
   "cell_type": "markdown",
   "id": "15a9a0ce-9bbd-452c-84f9-d1cad2ceb88b",
   "metadata": {
    "hidden": true
   },
   "source": [
    "加载优化器"
   ]
  },
  {
   "cell_type": "code",
   "execution_count": 13,
   "id": "b45c6b37-8995-4aae-b834-dcdae51e4a36",
   "metadata": {
    "hidden": true
   },
   "outputs": [],
   "source": [
    "optim = torch.optim.SGD(model.parameters(), lr=1e-2, momentum=0.9)"
   ]
  },
  {
   "cell_type": "markdown",
   "id": "8a094167-d1ca-4f5d-bdff-91f4016b9996",
   "metadata": {
    "hidden": true
   },
   "source": [
    "进行梯度下降"
   ]
  },
  {
   "cell_type": "code",
   "execution_count": 14,
   "id": "3425a9c5-a11a-46d7-b522-447ba3de169e",
   "metadata": {
    "hidden": true
   },
   "outputs": [],
   "source": [
    "optim.step() #gradient descent"
   ]
  },
  {
   "cell_type": "markdown",
   "id": "5850abd1-ab0d-4b17-b0e0-e4093807b112",
   "metadata": {
    "heading_collapsed": true,
    "tags": [],
    "toc-hr-collapsed": true
   },
   "source": [
    "## 3.Autograd运行原理"
   ]
  },
  {
   "cell_type": "markdown",
   "id": "541313d3-c701-4086-a240-de538bc61a61",
   "metadata": {
    "hidden": true
   },
   "source": [
    "使用参数`requires_grad=True`来对张量a,b进行跟踪，从而了解它们的每个操作"
   ]
  },
  {
   "cell_type": "code",
   "execution_count": 15,
   "id": "91567ffc-7f03-431b-ab9c-d9a277e48a26",
   "metadata": {
    "hidden": true
   },
   "outputs": [],
   "source": [
    "import torch\n",
    "\n",
    "a = torch.tensor([2., 3.], requires_grad=True)\n",
    "b = torch.tensor([6., 4.], requires_grad=True)"
   ]
  },
  {
   "cell_type": "code",
   "execution_count": 16,
   "id": "b48b06dc-5c6f-4e23-86aa-8ab67c300616",
   "metadata": {
    "hidden": true
   },
   "outputs": [
    {
     "data": {
      "text/plain": [
       "tensor([2., 3.], requires_grad=True)"
      ]
     },
     "execution_count": 16,
     "metadata": {},
     "output_type": "execute_result"
    }
   ],
   "source": [
    "a"
   ]
  },
  {
   "cell_type": "code",
   "execution_count": 17,
   "id": "5dcf69e5-3a88-4427-9904-39074f8a313e",
   "metadata": {
    "hidden": true
   },
   "outputs": [
    {
     "data": {
      "text/plain": [
       "tensor([6., 4.], requires_grad=True)"
      ]
     },
     "execution_count": 17,
     "metadata": {},
     "output_type": "execute_result"
    }
   ],
   "source": [
    "b"
   ]
  },
  {
   "cell_type": "code",
   "execution_count": 18,
   "id": "5188ffa1-f244-4fba-8499-5bebd319ed3c",
   "metadata": {
    "hidden": true
   },
   "outputs": [
    {
     "data": {
      "text/plain": [
       "tensor([-12.,  65.], grad_fn=<SubBackward0>)"
      ]
     },
     "execution_count": 18,
     "metadata": {},
     "output_type": "execute_result"
    }
   ],
   "source": [
    "Q = 3*a**3 - b**2\n",
    "Q"
   ]
  },
  {
   "cell_type": "markdown",
   "id": "353246cc-c604-4428-89dd-4791103c81ce",
   "metadata": {
    "hidden": true
   },
   "source": [
    "假设a,b是NN的参数，Q是误差函数，在NN的训练中，我们需要计算它们的偏导\n",
    "\n",
    "$$\n",
    "Q\\left( a,b \\right) =3a^3-b^2\n",
    "\\\\\n",
    "Q'_a=9a\n",
    "\\\\\n",
    "Q'_b=2b\n",
    "$$\n",
    "\n",
    "\n",
    "当我们在Q上调用`.backward()`时，autograd会计算这些梯度并将它们存储在相应张量的`.grad`属性之中"
   ]
  },
  {
   "cell_type": "code",
   "execution_count": 19,
   "id": "13bcefad-697e-4b49-a309-6901ee5e545d",
   "metadata": {
    "hidden": true,
    "tags": []
   },
   "outputs": [
    {
     "name": "stdout",
     "output_type": "stream",
     "text": [
      "tensor([True, True])\n",
      "tensor([True, True])\n"
     ]
    }
   ],
   "source": [
    "external_grad = torch.tensor([1., 1.])\n",
    "Q.backward(gradient=external_grad)\n",
    "# check if collected gradients are correct\n",
    "print(9*a**2 == a.grad)\n",
    "print(-2*b == b.grad)"
   ]
  },
  {
   "cell_type": "markdown",
   "id": "37e1b78e-9196-43e7-82d0-a18ed5c3a966",
   "metadata": {
    "heading_collapsed": true,
    "jp-MarkdownHeadingCollapsed": true,
    "tags": [],
    "toc-hr-collapsed": true
   },
   "source": [
    "## 4.nn模型搭建基础使用"
   ]
  },
  {
   "cell_type": "markdown",
   "id": "bed2670c-0293-4853-abdb-39833b5570fe",
   "metadata": {
    "hidden": true,
    "tags": []
   },
   "source": [
    "- Pytorch使用`torch.nn`构建神经网络\n",
    "\n",
    "- `nn`依赖于`autograd`来定义模型\n",
    "\n",
    "- 一个`nn.Module`主要包含了各种`layers`,输入`forward`，并返回`output`\n",
    "\n",
    "神经网络典型的训练过程如下：\n",
    "\n",
    "1. 定义网络，为网络设置可学习参数(或权重)\n",
    "\n",
    "2. 迭代输入数据集，通过网络处理输入流\n",
    "\n",
    "3. 计算损失值\n",
    "\n",
    "4. 利用梯度下降法将梯度回馈给网络\n",
    "\n",
    "5. 更新网络的参数(或权重)，通常使用`权重=权重-学习率*梯度`"
   ]
  },
  {
   "cell_type": "markdown",
   "id": "618ff486-1995-4bdc-b024-c37794e226a0",
   "metadata": {
    "hidden": true
   },
   "source": [
    "### 1. 定义网络\n",
    "\n",
    "我们只需要定义前向函数，然后再使用`autograd`自动去定义后向函数(计算梯度的地方)就可以了\n",
    "\n",
    "我们可以在`forward`函数中对张量进行任意操作"
   ]
  },
  {
   "cell_type": "code",
   "execution_count": 20,
   "id": "46b9cb07-ebfa-4e08-8267-1822da62898c",
   "metadata": {
    "hidden": true
   },
   "outputs": [
    {
     "name": "stdout",
     "output_type": "stream",
     "text": [
      "Net(\n",
      "  (conv1): Conv2d(1, 6, kernel_size=(5, 5), stride=(1, 1))\n",
      "  (conv2): Conv2d(6, 16, kernel_size=(5, 5), stride=(1, 1))\n",
      "  (fc1): Linear(in_features=400, out_features=120, bias=True)\n",
      "  (fc2): Linear(in_features=120, out_features=84, bias=True)\n",
      "  (fc3): Linear(in_features=84, out_features=10, bias=True)\n",
      ")\n"
     ]
    }
   ],
   "source": [
    "import torch\n",
    "import torch.nn as nn\n",
    "import torch.nn.functional as F\n",
    "\n",
    "\n",
    "class Net(nn.Module):\n",
    "\n",
    "    def __init__(self):\n",
    "        super(Net, self).__init__()\n",
    "        # 1 input image channel, 6 output channels, 5x5 square convolution\n",
    "        # kernel\n",
    "        self.conv1 = nn.Conv2d(1, 6, 5)\n",
    "        self.conv2 = nn.Conv2d(6, 16, 5)\n",
    "        # an affine operation: y = Wx + b\n",
    "        self.fc1 = nn.Linear(16 * 5 * 5, 120)  # 5*5 from image dimension\n",
    "        self.fc2 = nn.Linear(120, 84)\n",
    "        self.fc3 = nn.Linear(84, 10)\n",
    "\n",
    "    def forward(self, x):\n",
    "        # Max pooling over a (2, 2) window\n",
    "        x = F.max_pool2d(F.relu(self.conv1(x)), (2, 2))\n",
    "        # If the size is a square, you can specify with a single number\n",
    "        x = F.max_pool2d(F.relu(self.conv2(x)), 2)\n",
    "        x = torch.flatten(x, 1) # flatten all dimensions except the batch dimension\n",
    "        x = F.relu(self.fc1(x))\n",
    "        x = F.relu(self.fc2(x))\n",
    "        x = self.fc3(x)\n",
    "        return x\n",
    "\n",
    "\n",
    "net = Net()\n",
    "print(net)"
   ]
  },
  {
   "cell_type": "markdown",
   "id": "4dd09bbb-7b62-40bc-aa3f-1521ef1b13e0",
   "metadata": {
    "hidden": true
   },
   "source": [
    "模型的可学习参数由`net.parameters()`返回"
   ]
  },
  {
   "cell_type": "code",
   "execution_count": 21,
   "id": "9fc45d78-b48e-4661-b7a6-2cb3ca7f2325",
   "metadata": {
    "hidden": true
   },
   "outputs": [
    {
     "name": "stdout",
     "output_type": "stream",
     "text": [
      "10\n",
      "torch.Size([6, 1, 5, 5])\n"
     ]
    }
   ],
   "source": [
    "params = list(net.parameters())\n",
    "print(len(params))\n",
    "print(params[0].size())  # conv1's .weight"
   ]
  },
  {
   "cell_type": "markdown",
   "id": "acbe1675-1c82-4ca4-85c9-ad2d55b7ba70",
   "metadata": {
    "hidden": true,
    "tags": []
   },
   "source": [
    "### 2. 输入数据集到网络\n",
    "\n",
    "我们在这里尝试一下随机的32*32的输入。\n",
    "\n",
    "注意：这个网络(LeNet)的预期输入大小是`32*32`，要在MNIST数据集上使用此网络就需要把MNIST数据集中的图像大小调整为`32*32`"
   ]
  },
  {
   "cell_type": "code",
   "execution_count": 22,
   "id": "0a03ce5f-65da-4934-9cac-85dbb98fcc63",
   "metadata": {
    "hidden": true
   },
   "outputs": [
    {
     "name": "stdout",
     "output_type": "stream",
     "text": [
      "tensor([[ 0.0846, -0.0494,  0.1014,  0.0034,  0.0981, -0.0529, -0.1216,  0.0332,\n",
      "         -0.0015, -0.0769]], grad_fn=<AddmmBackward0>)\n"
     ]
    }
   ],
   "source": [
    "input = torch.randn(1, 1, 32, 32)\n",
    "out = net(input)\n",
    "print(out)"
   ]
  },
  {
   "cell_type": "markdown",
   "id": "a4eb654a-d013-4820-bf90-9276f60699b7",
   "metadata": {
    "hidden": true
   },
   "source": [
    "接下来，将所有参数的梯度缓冲区和具有随机梯度的反向传播归零"
   ]
  },
  {
   "cell_type": "code",
   "execution_count": 23,
   "id": "1cdffaec-2157-4e74-827c-5008c034c8cf",
   "metadata": {
    "hidden": true
   },
   "outputs": [],
   "source": [
    "net.zero_grad()\n",
    "out.backward(torch.randn(1, 10))"
   ]
  },
  {
   "cell_type": "markdown",
   "id": "467bcc83-6d60-46ae-897a-9ff06f89cb29",
   "metadata": {
    "hidden": true
   },
   "source": []
  },
  {
   "cell_type": "markdown",
   "id": "accaef94-2414-44fb-a784-0f387f811e26",
   "metadata": {
    "hidden": true
   },
   "source": [
    "在进行下一步前，我们先总结一下所学：\n",
    "\n",
    "`torch.Tensor`：一个多维数组，支持`autograd`操作\n",
    "\n",
    "`nn.Module`：神经网络模块，用于封装参数，支持输入输出，将参数移动到gpu的功能\n",
    "\n",
    "`nn.Parameter`：一种张量，用以给`nn.Module`提供参数\n",
    "\n",
    "`autograd.Function`：实现`autograd`操作的前向和后向的定义"
   ]
  },
  {
   "cell_type": "markdown",
   "id": "f6192782-f0ed-4df5-899d-bc13ccbbe3e1",
   "metadata": {
    "hidden": true
   },
   "source": [
    "### 3.计算损失值\n",
    "\n",
    "定义一个损失函数，并用损失函数的值来表现输出与期望输出的偏离程度\n",
    "\n",
    "`torch.nn`包中有很多损失函数，此处采用常用的`nn.MSELoss`，它计算输入和目标之间的均方误差"
   ]
  },
  {
   "cell_type": "code",
   "execution_count": 24,
   "id": "aaa7aa20-fc2e-412e-8968-e379c6b5d00e",
   "metadata": {
    "hidden": true
   },
   "outputs": [
    {
     "name": "stdout",
     "output_type": "stream",
     "text": [
      "tensor(1.7181, grad_fn=<MseLossBackward0>)\n"
     ]
    }
   ],
   "source": [
    "output = net(input)\n",
    "target = torch.randn(10)  # a dummy target, for example\n",
    "target = target.view(1, -1)  # make it the same shape as output\n",
    "criterion = nn.MSELoss()\n",
    "\n",
    "loss = criterion(output, target)\n",
    "print(loss)"
   ]
  },
  {
   "cell_type": "markdown",
   "id": "180685af-8947-4029-9c87-1f83743e0722",
   "metadata": {
    "hidden": true
   },
   "source": [
    "如果使用它的`.grad_fn`属性来反向跟踪计算过程，你会看到如下计算图：\n",
    "```\n",
    "input -> conv2d -> relu -> maxpool2d -> conv2d -> relu -> maxpool2d\n",
    "      -> flatten -> linear -> relu -> linear -> relu -> linear\n",
    "      -> MSELoss\n",
    "      -> loss\n",
    "```"
   ]
  },
  {
   "cell_type": "code",
   "execution_count": 25,
   "id": "abe2c999-c201-4da0-84eb-3a5b7c0e2530",
   "metadata": {
    "hidden": true
   },
   "outputs": [
    {
     "name": "stdout",
     "output_type": "stream",
     "text": [
      "<MseLossBackward0 object at 0x000002765D8416D0>\n",
      "<AddmmBackward0 object at 0x000002765D841DF0>\n",
      "<AccumulateGrad object at 0x000002765715DAC0>\n"
     ]
    }
   ],
   "source": [
    "print(loss.grad_fn)  # MSELoss\n",
    "print(loss.grad_fn.next_functions[0][0])  # Linear\n",
    "print(loss.grad_fn.next_functions[0][0].next_functions[0][0])  # ReLU"
   ]
  },
  {
   "cell_type": "markdown",
   "id": "e7181511-f2b0-4a08-9bb6-1ef773d9fa60",
   "metadata": {
    "hidden": true
   },
   "source": [
    "### 4.梯度下降\n",
    "> 在开始梯度下降之前必须要清除现有的梯度，否则现有的梯度会影响结果输出\n",
    "\n",
    "我们需要使用`loss.backward()`来利用损失函数进行反向传播，并看看`conv1`在`loss.backward()`之前和之后的偏差梯度。\n"
   ]
  },
  {
   "cell_type": "code",
   "execution_count": 26,
   "id": "d6c93dd0-2660-4370-841b-a0935fa97473",
   "metadata": {
    "hidden": true
   },
   "outputs": [
    {
     "name": "stdout",
     "output_type": "stream",
     "text": [
      "conv1.bias.grad before backward：\n",
      "tensor([0., 0., 0., 0., 0., 0.])\n",
      "conv1.bias.grad after backward：\n",
      "tensor([ 0.0040,  0.0221, -0.0045,  0.0081, -0.0108, -0.0004])\n"
     ]
    }
   ],
   "source": [
    "net.zero_grad()     # zeroes the gradient buffers of all parameters\n",
    "\n",
    "print('conv1.bias.grad before backward：')\n",
    "print(net.conv1.bias.grad)\n",
    "\n",
    "loss.backward()\n",
    "\n",
    "print('conv1.bias.grad after backward：')\n",
    "print(net.conv1.bias.grad)"
   ]
  },
  {
   "cell_type": "markdown",
   "id": "a70616e6-a22a-407a-80a8-73c9579ebc38",
   "metadata": {
    "hidden": true
   },
   "source": [
    "### 5.更新网络的权重\n",
    "\n",
    "实践中使用的最简单的更新规则是随机梯度下降 (SGD)： \n",
    "\n",
    "权重 = 权重 - 学习率 * 梯度"
   ]
  },
  {
   "cell_type": "code",
   "execution_count": 27,
   "id": "68a3f70c-8f32-49cb-81de-600e58d15306",
   "metadata": {
    "hidden": true
   },
   "outputs": [],
   "source": [
    "learning_rate = 0.01\n",
    "for f in net.parameters():\n",
    "    f.data.sub_(f.grad.data * learning_rate)"
   ]
  },
  {
   "cell_type": "markdown",
   "id": "383c6788-662f-416b-b476-dcb423289846",
   "metadata": {
    "hidden": true
   },
   "source": [
    "但是，当使用神经网络时，肯定会希望使用各种不同的更新规则，例如 SGD、Nesterov-SGD、Adam、RMSProp 等。\n",
    "\n",
    "为此，Pytorch构建了一个包`torch.optim` 来实现所有这些方法。使用它非常简单："
   ]
  },
  {
   "cell_type": "code",
   "execution_count": 28,
   "id": "1c555be3-7e84-49ec-ac29-0ee36a6714d3",
   "metadata": {
    "hidden": true
   },
   "outputs": [],
   "source": [
    "import torch.optim as optim\n",
    "\n",
    "# create your optimizer\n",
    "optimizer = optim.SGD(net.parameters(), lr=0.01)\n",
    "\n",
    "# in your training loop:\n",
    "optimizer.zero_grad()   # zero the gradient buffers\n",
    "output = net(input)\n",
    "loss = criterion(output, target)\n",
    "loss.backward()\n",
    "optimizer.step()    # Does the update"
   ]
  },
  {
   "cell_type": "markdown",
   "id": "b40f7a9c-58cf-4000-a5d5-68ac30fa5c2b",
   "metadata": {
    "heading_collapsed": true,
    "jp-MarkdownHeadingCollapsed": true,
    "tags": [],
    "toc-hr-collapsed": true
   },
   "source": [
    "## 5.实战：训练一个分类器"
   ]
  },
  {
   "cell_type": "markdown",
   "id": "fa83f836-630b-4c9e-8d8d-132811766683",
   "metadata": {
    "hidden": true
   },
   "source": [
    "通常，处理图像、文本、音频或视频数据时，就用一些python包将数据加载到 numpy 数组中，然后再把这个数组转换成一个`torch.*Tensor`。\n",
    "\n",
    "| 数据类型 | 推荐包             |\n",
    "| -------- | ------------------ |\n",
    "| 图像     | **Pillow，Pillow** |\n",
    "| 音频     | **scipy，librosa** |\n",
    "\n",
    "针对图像数据，Pytorch还有一个`torchvison`的包，它自带了一些常见的数据集(ImageNet、CIFAR10、MNIST)，这样我们做训练时就直接调用加载器`torchvision.datasets`或者转换器`torchvision.datasets`而不用再去找数据下载了。\n",
    "\n",
    "本次实验我们使用`CIFAR10`数据集构建一个简单的分类器\n",
    "CIFAR-10 中的图像大小为 3x32x32，即 32x32 像素大小的 3 通道彩色图像。其中包括了‘airplane’, ‘automobile’, ‘bird’, ‘cat’, ‘deer’, ‘dog’, ‘frog’, ‘horse’, ‘ship’, ‘truck’十种类别的图片。\n",
    "![](https://pytorch.org/tutorials/_images/cifar10.png)"
   ]
  },
  {
   "cell_type": "markdown",
   "id": "b7391811-ac11-46ca-8abe-aab82e754d4e",
   "metadata": {
    "hidden": true
   },
   "source": [
    "本次实验我们具体的步骤如下：\n",
    "\n",
    "1. 使用`torchvision`加载和规范化`CIFAR10`训练和测试数据集\n",
    "\n",
    "2. 定义卷积神经网络\n",
    "\n",
    "3. 定义损失函数\n",
    "\n",
    "4. 在训练数据上训练网络\n",
    "\n",
    "5. 在测试数据上测试网络"
   ]
  },
  {
   "cell_type": "markdown",
   "id": "062ac2c0-3bb3-421f-8922-ea520cf66993",
   "metadata": {
    "hidden": true
   },
   "source": [
    "### 1. 使用`torchvision`加载和规范化`CIFAR10`训练和测试数据集"
   ]
  },
  {
   "cell_type": "code",
   "execution_count": 29,
   "id": "a676824b-2ac8-4a94-b74e-3b03f0d4bcab",
   "metadata": {
    "hidden": true
   },
   "outputs": [],
   "source": [
    "import torch\n",
    "import torchvision\n",
    "import torchvision.transforms as transforms"
   ]
  },
  {
   "cell_type": "markdown",
   "id": "cd8672cf-8141-4195-862b-30818818f25c",
   "metadata": {
    "hidden": true
   },
   "source": [
    "torchvision 数据集的输出是范围 [0, 1] 的 PILImage 图像。我们将它们转换为标准化范围 [-1, 1] 的张量。"
   ]
  },
  {
   "cell_type": "code",
   "execution_count": 30,
   "id": "d43efa62-8e65-490d-b453-fb2643636ffa",
   "metadata": {
    "hidden": true
   },
   "outputs": [
    {
     "name": "stdout",
     "output_type": "stream",
     "text": [
      "Files already downloaded and verified\n",
      "Files already downloaded and verified\n"
     ]
    }
   ],
   "source": [
    "transform = transforms.Compose(\n",
    "    [transforms.ToTensor(),\n",
    "     transforms.Normalize((0.5, 0.5, 0.5), (0.5, 0.5, 0.5))])\n",
    "\n",
    "batch_size = 4\n",
    "\n",
    "trainset = torchvision.datasets.CIFAR10(root='./data', train=True,\n",
    "                                        download=True, transform=transform)\n",
    "trainloader = torch.utils.data.DataLoader(trainset, batch_size=batch_size,\n",
    "                                          shuffle=True, num_workers=2)\n",
    "\n",
    "testset = torchvision.datasets.CIFAR10(root='./data', train=False,\n",
    "                                       download=True, transform=transform)\n",
    "testloader = torch.utils.data.DataLoader(testset, batch_size=batch_size,\n",
    "                                         shuffle=False, num_workers=2)\n",
    "\n",
    "classes = ('plane', 'car', 'bird', 'cat',\n",
    "           'deer', 'dog', 'frog', 'horse', 'ship', 'truck')"
   ]
  },
  {
   "cell_type": "code",
   "execution_count": 31,
   "id": "f8f1e243-55cf-4185-a768-e39a9b4b6f38",
   "metadata": {
    "hidden": true
   },
   "outputs": [
    {
     "data": {
      "image/png": "[encoded data removed]",
      "text/plain": [
       "<Figure size 432x288 with 1 Axes>"
      ]
     },
     "metadata": {
      "needs_background": "light"
     },
     "output_type": "display_data"
    },
    {
     "name": "stdout",
     "output_type": "stream",
     "text": [
      "horse plane plane bird \n"
     ]
    }
   ],
   "source": [
    "#来check一下我们下载好的数据是不是真的\n",
    "import matplotlib.pyplot as plt\n",
    "import numpy as np\n",
    "\n",
    "# functions to show an image\n",
    "\n",
    "\n",
    "def imshow(img):\n",
    "    img = img / 2 + 0.5     # unnormalize\n",
    "    npimg = img.numpy()\n",
    "    plt.imshow(np.transpose(npimg, (1, 2, 0)))\n",
    "    plt.show()\n",
    "\n",
    "\n",
    "# get some random training images\n",
    "dataiter = iter(trainloader)\n",
    "images, labels = dataiter.next()\n",
    "\n",
    "# show images\n",
    "imshow(torchvision.utils.make_grid(images))\n",
    "# print labels\n",
    "print(' '.join(f'{classes[labels[j]]:5s}' for j in range(batch_size)))"
   ]
  },
  {
   "cell_type": "markdown",
   "id": "98124947-6060-44d3-9c86-3da2bc5f54cb",
   "metadata": {
    "hidden": true
   },
   "source": [
    "### 2. 定义卷积神经网络"
   ]
  },
  {
   "cell_type": "markdown",
   "id": "72a67c4c-eb97-478b-a1fc-b0b3a1b43b2f",
   "metadata": {
    "hidden": true
   },
   "source": [
    "从之前的神经网络部分复制神经网络并修改它以获取 3 通道图像（而不是定义的 1 通道图像）。"
   ]
  },
  {
   "cell_type": "code",
   "execution_count": 32,
   "id": "7a1821a0-48db-4c16-a5e8-845aef41ac65",
   "metadata": {
    "hidden": true
   },
   "outputs": [
    {
     "name": "stdout",
     "output_type": "stream",
     "text": [
      "Net(\n",
      "  (conv1): Conv2d(3, 6, kernel_size=(5, 5), stride=(1, 1))\n",
      "  (pool): MaxPool2d(kernel_size=2, stride=2, padding=0, dilation=1, ceil_mode=False)\n",
      "  (conv2): Conv2d(6, 16, kernel_size=(5, 5), stride=(1, 1))\n",
      "  (fc1): Linear(in_features=400, out_features=120, bias=True)\n",
      "  (fc2): Linear(in_features=120, out_features=84, bias=True)\n",
      "  (fc3): Linear(in_features=84, out_features=10, bias=True)\n",
      ")\n"
     ]
    }
   ],
   "source": [
    "import torch.nn as nn\n",
    "import torch.nn.functional as F\n",
    "\n",
    "\n",
    "class Net(nn.Module):\n",
    "    def __init__(self):\n",
    "        super().__init__()\n",
    "        self.conv1 = nn.Conv2d(3, 6, 5)\n",
    "        self.pool = nn.MaxPool2d(2, 2)\n",
    "        self.conv2 = nn.Conv2d(6, 16, 5)\n",
    "        self.fc1 = nn.Linear(16 * 5 * 5, 120)\n",
    "        self.fc2 = nn.Linear(120, 84)\n",
    "        self.fc3 = nn.Linear(84, 10)\n",
    "\n",
    "    def forward(self, x):\n",
    "        x = self.pool(F.relu(self.conv1(x)))\n",
    "        x = self.pool(F.relu(self.conv2(x)))\n",
    "        x = torch.flatten(x, 1) # flatten all dimensions except batch\n",
    "        x = F.relu(self.fc1(x))\n",
    "        x = F.relu(self.fc2(x))\n",
    "        x = self.fc3(x)\n",
    "        return x\n",
    "\n",
    "\n",
    "net = Net()\n",
    "print(net)"
   ]
  },
  {
   "cell_type": "markdown",
   "id": "c2ba548f-d25d-4822-822f-4106ec2e78e8",
   "metadata": {
    "hidden": true,
    "tags": []
   },
   "source": [
    "### 3. 定义损失函数"
   ]
  },
  {
   "cell_type": "markdown",
   "id": "e614df3c-a836-4970-9ece-5375587cc902",
   "metadata": {
    "hidden": true
   },
   "source": [
    "让我们使用具有动量的分类交叉熵作为损失函数和SGD。(SGD是什么？)"
   ]
  },
  {
   "cell_type": "code",
   "execution_count": 33,
   "id": "2d74873b-aeeb-4c6d-b6d1-a2beb37f245e",
   "metadata": {
    "hidden": true
   },
   "outputs": [],
   "source": [
    "import torch.optim as optim\n",
    "\n",
    "criterion = nn.CrossEntropyLoss()\n",
    "optimizer = optim.SGD(net.parameters(), lr=0.001, momentum=0.9)"
   ]
  },
  {
   "cell_type": "markdown",
   "id": "95b50780-80a3-42a9-897c-8cc7e2ca8633",
   "metadata": {
    "hidden": true
   },
   "source": [
    "### 4. 在训练数据上训练网络"
   ]
  },
  {
   "cell_type": "markdown",
   "id": "3ce15411-6c74-4cf5-a540-d423786dc451",
   "metadata": {
    "hidden": true
   },
   "source": [
    "到了事情开始变得有趣的时候了。我们只需要遍历我们的数据迭代器，并将输入提供给网络并进行优化。"
   ]
  },
  {
   "cell_type": "code",
   "execution_count": 34,
   "id": "f8780f5b-e861-4b8c-b1c6-bd42777c62c4",
   "metadata": {
    "hidden": true
   },
   "outputs": [
    {
     "name": "stdout",
     "output_type": "stream",
     "text": [
      "[1,  2000] loss: 2.187\n",
      "[1,  4000] loss: 1.835\n",
      "[1,  6000] loss: 1.661\n",
      "[1,  8000] loss: 1.580\n",
      "[1, 10000] loss: 1.528\n",
      "[1, 12000] loss: 1.477\n",
      "[2,  2000] loss: 1.405\n",
      "[2,  4000] loss: 1.374\n",
      "[2,  6000] loss: 1.349\n",
      "[2,  8000] loss: 1.337\n",
      "[2, 10000] loss: 1.301\n",
      "[2, 12000] loss: 1.293\n",
      "Finished Training\n"
     ]
    }
   ],
   "source": [
    "for epoch in range(2):  # loop over the dataset multiple times\n",
    "\n",
    "    running_loss = 0.0\n",
    "    for i, data in enumerate(trainloader, 0):\n",
    "        # get the inputs; data is a list of [inputs, labels]\n",
    "        inputs, labels = data\n",
    "\n",
    "        # zero the parameter gradients\n",
    "        optimizer.zero_grad()\n",
    "\n",
    "        # forward + backward + optimize\n",
    "        outputs = net(inputs)\n",
    "        loss = criterion(outputs, labels)\n",
    "        loss.backward()\n",
    "        optimizer.step()\n",
    "\n",
    "        # print statistics\n",
    "        running_loss += loss.item()\n",
    "        if i % 2000 == 1999:    # print every 2000 mini-batches\n",
    "            print(f'[{epoch + 1}, {i + 1:5d}] loss: {running_loss / 2000:.3f}')\n",
    "            running_loss = 0.0\n",
    "\n",
    "print('Finished Training')"
   ]
  },
  {
   "cell_type": "markdown",
   "id": "a6833e51-0d8e-4616-976d-6d4633531b9f",
   "metadata": {
    "hidden": true
   },
   "source": [
    "接下来我们将模型数据保存到`.pth`文件中，这样我们就能像前文离线下载resnet18模型那样导入我们自己建立的模型了"
   ]
  },
  {
   "cell_type": "code",
   "execution_count": 35,
   "id": "0cd9ada2-e968-4930-8cb6-4ef8489134bb",
   "metadata": {
    "hidden": true
   },
   "outputs": [],
   "source": [
    "PATH = './model/cifar_net.pth'\n",
    "torch.save(net.state_dict(), PATH)"
   ]
  },
  {
   "cell_type": "markdown",
   "id": "a09248d5-0d56-442e-8f24-7802cc89ca48",
   "metadata": {
    "hidden": true,
    "tags": []
   },
   "source": [
    "### 5. 在测试数据上测试网络"
   ]
  },
  {
   "cell_type": "markdown",
   "id": "1588b822-e6dd-41ab-9ece-2b111ddb99eb",
   "metadata": {
    "hidden": true
   },
   "source": [
    "#### 5.1 测试集可视化"
   ]
  },
  {
   "cell_type": "code",
   "execution_count": 36,
   "id": "5b1666cf-3c2d-4262-a76e-7de69f5ba13e",
   "metadata": {
    "hidden": true
   },
   "outputs": [
    {
     "data": {
      "image/png": "[encoded data removed]",
      "text/plain": [
       "<Figure size 432x288 with 1 Axes>"
      ]
     },
     "metadata": {
      "needs_background": "light"
     },
     "output_type": "display_data"
    },
    {
     "name": "stdout",
     "output_type": "stream",
     "text": [
      "Truth:  cat   ship  ship  plane\n"
     ]
    }
   ],
   "source": [
    "dataiter = iter(testloader)\n",
    "images, labels = dataiter.next()\n",
    "\n",
    "# print images\n",
    "imshow(torchvision.utils.make_grid(images))\n",
    "print('Truth: ', ' '.join(f'{classes[labels[j]]:5s}' for j in range(4)))"
   ]
  },
  {
   "cell_type": "markdown",
   "id": "84d158a8-7599-4c24-9a57-e8c1c377960d",
   "metadata": {
    "hidden": true
   },
   "source": [
    ">此时我们已经在训练集上对网络进行了2次训练，此时我们需要在测试集上测试网络的学习情况\n",
    "\n",
    "我们将通过神经网络输出的类标签与测试集中真实的类标签进行对比，声明一个数列，相同则记为1，不同则即为0，最后统计这个数列中1的占比，即为该神经网络的准确率"
   ]
  },
  {
   "cell_type": "markdown",
   "id": "22d4c225-8a6f-4a80-8d4d-3db0948896d3",
   "metadata": {
    "hidden": true,
    "tags": []
   },
   "source": [
    "#### 5.2 加载模型"
   ]
  },
  {
   "cell_type": "markdown",
   "id": "ace8bfaf-6dc0-460f-891c-1ef57f8dd441",
   "metadata": {
    "hidden": true
   },
   "source": [
    "我们之前已经将模型保存为`cifar_net.pth`文件了，这里我们通过加载`cifar_net.pth`文件的形式来再生成一次模型（可以不这样做，此处仅作演示）"
   ]
  },
  {
   "cell_type": "code",
   "execution_count": 37,
   "id": "d84508e5-c9a3-4e1c-8e00-97890410d563",
   "metadata": {
    "hidden": true
   },
   "outputs": [
    {
     "data": {
      "text/plain": [
       "<All keys matched successfully>"
      ]
     },
     "execution_count": 37,
     "metadata": {},
     "output_type": "execute_result"
    }
   ],
   "source": [
    "net = Net()\n",
    "net.load_state_dict(torch.load(PATH))"
   ]
  },
  {
   "cell_type": "markdown",
   "id": "a2ca985c-4629-4b8c-a5a3-e1f37fb037e3",
   "metadata": {
    "hidden": true,
    "tags": []
   },
   "source": [
    "#### 5.3 抽样查看表现"
   ]
  },
  {
   "cell_type": "markdown",
   "id": "5132718e-3654-4dda-a39b-35232d394a9e",
   "metadata": {
    "hidden": true
   },
   "source": [
    "现在让我们看看我们的网络认为上面的抽取的四张图像分别是什么：\n",
    "\n",
    "输出有十列，每一列对应每一类的相似指数a(0<a<1)，相似指数越大，网络就认为这个图片更属于其对应的类别，所以，我们输出每行中拥有**最高**相似指数的标签"
   ]
  },
  {
   "cell_type": "code",
   "execution_count": 38,
   "id": "056b24a6-8964-4559-af48-e59d2057f5c8",
   "metadata": {
    "hidden": true
   },
   "outputs": [
    {
     "name": "stdout",
     "output_type": "stream",
     "text": [
      "    Truth:  cat   ship  ship  plane\n",
      "Predicted:  cat   car   plane plane\n"
     ]
    }
   ],
   "source": [
    "outputs = net(images)\n",
    "\n",
    "_, predicted = torch.max(outputs, 1)\n",
    "#Truth\n",
    "print('    Truth: ', ' '.join(f'{classes[labels[j]]:5s}' for j in range(4)))\n",
    "#predicted\n",
    "print('Predicted: ', ' '.join(f'{classes[predicted[j]]:5s}'\n",
    "                              for j in range(4)))"
   ]
  },
  {
   "cell_type": "markdown",
   "id": "4cfca696-6d0c-4bde-bf0e-2636339c5ad3",
   "metadata": {
    "hidden": true
   },
   "source": [
    "#### 5.4 查看在整个数据集上的表现"
   ]
  },
  {
   "cell_type": "code",
   "execution_count": 39,
   "id": "77eed3fb-b5e0-4ed0-b84f-729a18062f1c",
   "metadata": {
    "hidden": true
   },
   "outputs": [
    {
     "name": "stdout",
     "output_type": "stream",
     "text": [
      "Accuracy of the network on the 10000 test images: 54 %\n"
     ]
    }
   ],
   "source": [
    "correct = 0\n",
    "total = 0\n",
    "# since we're not training, we don't need to calculate the gradients for our outputs\n",
    "with torch.no_grad():\n",
    "    for data in testloader:\n",
    "        images, labels = data\n",
    "        # calculate outputs by running images through the network\n",
    "        outputs = net(images)\n",
    "        # the class with the highest energy is what we choose as prediction\n",
    "        _, predicted = torch.max(outputs.data, 1)\n",
    "        total += labels.size(0)\n",
    "        correct += (predicted == labels).sum().item()\n",
    "\n",
    "print(f'Accuracy of the network on the 10000 test images: {100 * correct // total} %')"
   ]
  },
  {
   "cell_type": "markdown",
   "id": "007ac79b-64d4-4935-adec-0d73995c92a7",
   "metadata": {
    "hidden": true
   },
   "source": [
    "看起来这比随机选择一个类(10%)的效果要多了！\\滑稽"
   ]
  },
  {
   "cell_type": "markdown",
   "id": "63a6421d-3284-4b31-aab9-c89cd861fd9a",
   "metadata": {
    "hidden": true
   },
   "source": [
    "#### 5.5 查看网络预测每个类别的水平"
   ]
  },
  {
   "cell_type": "code",
   "execution_count": 40,
   "id": "7b2fe09c-5fe4-41d7-aa8d-eb44ba8d4bdf",
   "metadata": {
    "hidden": true
   },
   "outputs": [
    {
     "name": "stdout",
     "output_type": "stream",
     "text": [
      "Accuracy for class: plane is 62.1 %\n",
      "Accuracy for class: car   is 67.7 %\n",
      "Accuracy for class: bird  is 36.2 %\n",
      "Accuracy for class: cat   is 39.9 %\n",
      "Accuracy for class: deer  is 51.0 %\n",
      "Accuracy for class: dog   is 58.5 %\n",
      "Accuracy for class: frog  is 54.7 %\n",
      "Accuracy for class: horse is 53.8 %\n",
      "Accuracy for class: ship  is 60.9 %\n",
      "Accuracy for class: truck is 64.4 %\n"
     ]
    }
   ],
   "source": [
    "# prepare to count predictions for each class\n",
    "correct_pred = {classname: 0 for classname in classes}\n",
    "total_pred = {classname: 0 for classname in classes}\n",
    "\n",
    "# again no gradients needed\n",
    "with torch.no_grad():\n",
    "    for data in testloader:\n",
    "        images, labels = data\n",
    "        outputs = net(images)\n",
    "        _, predictions = torch.max(outputs, 1)\n",
    "        # collect the correct predictions for each class\n",
    "        for label, prediction in zip(labels, predictions):\n",
    "            if label == prediction:\n",
    "                correct_pred[classes[label]] += 1\n",
    "            total_pred[classes[label]] += 1\n",
    "\n",
    "\n",
    "# print accuracy for each class\n",
    "for classname, correct_count in correct_pred.items():\n",
    "    accuracy = 100 * float(correct_count) / total_pred[classname]\n",
    "    print(f'Accuracy for class: {classname:5s} is {accuracy:.1f} %')"
   ]
  },
  {
   "cell_type": "code",
   "execution_count": null,
   "id": "b1709580-e476-494a-a9a7-e113307990b5",
   "metadata": {
    "hidden": true
   },
   "outputs": [],
   "source": []
  },
  {
   "cell_type": "code",
   "execution_count": null,
   "id": "b2ae4383-c548-4964-ae74-5297fdf374d7",
   "metadata": {
    "hidden": true
   },
   "outputs": [],
   "source": []
  },
  {
   "cell_type": "code",
   "execution_count": null,
   "id": "3c083468-5a6e-4843-8237-add4097c617b",
   "metadata": {
    "hidden": true
   },
   "outputs": [],
   "source": []
  },
  {
   "cell_type": "code",
   "execution_count": null,
   "id": "78a84cdb-5c18-4d65-9a72-9e0e310f6383",
   "metadata": {
    "hidden": true
   },
   "outputs": [],
   "source": []
  }
 ],
 "metadata": {
  "kernelspec": {
   "display_name": "Python 3 (ipykernel)",
   "language": "python",
   "name": "python3"
  },
  "language_info": {
   "codemirror_mode": {
    "name": "ipython",
    "version": 3
   },
   "file_extension": ".py",
   "mimetype": "text/x-python",
   "name": "python",
   "nbconvert_exporter": "python",
   "pygments_lexer": "ipython3",
   "version": "3.9.10"
  },
  "latex_envs": {
   "LaTeX_envs_menu_present": true,
   "autoclose": false,
   "autocomplete": true,
   "bibliofile": "biblio.bib",
   "cite_by": "apalike",
   "current_citInitial": 1,
   "eqLabelWithNumbers": true,
   "eqNumInitial": 1,
   "hotkeys": {
    "equation": "Ctrl-E",
    "itemize": "Ctrl-I"
   },
   "labels_anchors": false,
   "latex_user_defs": false,
   "report_style_numbering": false,
   "user_envs_cfg": false
  },
  "nbTranslate": {
   "displayLangs": [
    "*"
   ],
   "hotkey": "alt-t",
   "langInMainMenu": true,
   "sourceLang": "en",
   "targetLang": "fr",
   "useGoogleTranslate": true
  },
  "notify_time": "10",
  "toc-autonumbering": false,
  "toc-showcode": false,
  "toc-showmarkdowntxt": false,
  "varInspector": {
   "cols": {
    "lenName": 16,
    "lenType": 16,
    "lenVar": 40
   },
   "kernels_config": {
    "python": {
     "delete_cmd_postfix": "",
     "delete_cmd_prefix": "del ",
     "library": "var_list.py",
     "varRefreshCmd": "print(var_dic_list())"
    },
    "r": {
     "delete_cmd_postfix": ") ",
     "delete_cmd_prefix": "rm(",
     "library": "var_list.r",
     "varRefreshCmd": "cat(var_dic_list()) "
    }
   },
   "oldHeight": 322.85,
   "position": {
    "height": "40px",
    "left": "887px",
    "right": "20px",
    "top": "122px",
    "width": "629px"
   },
   "types_to_exclude": [
    "module",
    "function",
    "builtin_function_or_method",
    "instance",
    "_Feature"
   ],
   "varInspector_section_display": "none",
   "window_display": false
  }
 },
 "nbformat": 4,
 "nbformat_minor": 5
}
